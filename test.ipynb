{
 "cells": [
  {
   "cell_type": "code",
   "execution_count": 1,
   "metadata": {},
   "outputs": [],
   "source": [
    "import json\n",
    "data = json.load(open('./rec_bias_test.mb','r',encoding='utf-8'))\n"
   ]
  },
  {
   "cell_type": "code",
   "execution_count": 12,
   "metadata": {},
   "outputs": [],
   "source": [
    "new_data = {\"graph\":{'cells':[]},'positions':[]}\n",
    "new_data['position'] = data['positions'] "
   ]
  },
  {
   "cell_type": "code",
   "execution_count": 19,
   "metadata": {},
   "outputs": [],
   "source": [
    "import time\n",
    "start_time = int(time.time()*1000)\n",
    "new_data = {\"graph\":{'cells':[]},'positions':[]}\n",
    "new_data['position'] = data['positions'] \n",
    "\n",
    "for i in data['graph']['cells']:\n",
    "    if i['shape'] == \"image\":\n",
    "        new_data['graph']['cells'].append({\n",
    "            'position':i['position'],\n",
    "            'size':i['size'],\n",
    "            \"view\": \"html-view\",\n",
    "            'shape':'html',\n",
    "            \"html\":\"image\",\n",
    "            \"zIndex\": i['zIndex'],\n",
    "            \"id\":i['id'],\n",
    "            \"parent\": \"\" if ('parent' not in i) else i[\"parent\"],\n",
    "            \"data\":{\n",
    "                \"type\":\"image\",\n",
    "                \"id\":\"image\"+ str(start_time ),\n",
    "                \"src\":i['attrs']['image']['xlink:href'],\n",
    "            },\n",
    "        })\n",
    "        start_time+=1\n",
    "        continue\n",
    "    if i['shape'] != \"edge\" :\n",
    "        if ('parent' not in i) and (i['zIndex'] == 10):\n",
    "            html = \"first\"\n",
    "        elif i['zIndex'] == 1:\n",
    "            html = \"group\"\n",
    "        else:\n",
    "            html = \"second\"\n",
    "        new_data['graph']['cells'].append({\n",
    "            'position':i['position'],\n",
    "            'size':i['size'],\n",
    "            \"view\": \"html-view\",\n",
    "            'shape':'html',\n",
    "            \"zIndex\": i['zIndex'],\n",
    "            \"idx\": i['idx'],\n",
    "            \"id\":i['id'],\n",
    "            \"ignore_layout\": False if ('ignore_layout' not in i) else i[\"ignore_layout\"],\n",
    "            \"parent\": \"\" if ('parent' not in i) else i[\"parent\"],\n",
    "            \"children\" : [] if ('children' not in i) else i[\"children\"],\n",
    "            \"html\": html,\n",
    "            \"data\":{\n",
    "                \"can_link\": False,\n",
    "                \"id\": html + str(start_time ),\n",
    "                \"note\": i['data']['note'],\n",
    "                \"style\": \"plain\",\n",
    "                \"title\": i['attrs'][\"text\"][\"text\"] if \"text\" in i['attrs'] else \"\",\n",
    "                \"type\": html\n",
    "            }\n",
    "        })\n",
    "\n",
    "        start_time += 1\n",
    "    else:\n",
    "        new_data['graph']['cells'].append(i)\n",
    "    # print(new_data['graph']['cells'])"
   ]
  },
  {
   "cell_type": "code",
   "execution_count": 21,
   "metadata": {},
   "outputs": [],
   "source": [
    "with open(\"new_rec_bias.mb\",'w',encoding=\"utf-8\") as f:\n",
    "    f.write(json.dumps(new_data))"
   ]
  }
 ],
 "metadata": {
  "interpreter": {
   "hash": "281ccc1aeb7b60b4bac4939ea2c86f7c893960a6cc88026fb996182ef82b7ce6"
  },
  "kernelspec": {
   "display_name": "Python 3.9.2 64-bit ('base': conda)",
   "name": "python3"
  },
  "language_info": {
   "codemirror_mode": {
    "name": "ipython",
    "version": 3
   },
   "file_extension": ".py",
   "mimetype": "text/x-python",
   "name": "python",
   "nbconvert_exporter": "python",
   "pygments_lexer": "ipython3",
   "version": "3.9.2"
  },
  "orig_nbformat": 4
 },
 "nbformat": 4,
 "nbformat_minor": 2
}
